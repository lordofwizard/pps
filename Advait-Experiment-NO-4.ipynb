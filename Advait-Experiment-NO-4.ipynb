{
 "cells": [
  {
   "cell_type": "code",
   "execution_count": 2,
   "id": "b82b8774",
   "metadata": {},
   "outputs": [
    {
     "name": "stdout",
     "output_type": "stream",
     "text": [
      "Hello Advait,Welcome.. have a nice day\n",
      "Please input number 1 :- 14\n",
      "Please input valid operator (+ , - , * , / ) :- *\n",
      "Please input number 2 :- 7\n",
      "98\n"
     ]
    }
   ],
   "source": [
    "def greet(name : str , msg : str):\n",
    "    \"\"\"This function greets to \n",
    "    the person with the provided message\"\"\"\n",
    "    print(\"Hello\",name + ',' + msg)\n",
    "\n",
    "def add(num1 : int, num2 : int) -> int:\n",
    "    \"\"\"This function adds 2 ints called\n",
    "    num1 and num2 and returns its output\"\"\"\n",
    "    return num1 + num2\n",
    "\n",
    "def sub(num1 : int, num2 : int) -> int:\n",
    "    \"\"\"This function substracts 2 ints called\n",
    "    num1 and num2 and returns its output\"\"\"\n",
    "    return num1 - num2\n",
    "\n",
    "def mul(num1 : int, num2 : int) -> int:\n",
    "    \"\"\"This function multiplies 2 ints called\n",
    "    num1 and num2 and returns its output\"\"\"\n",
    "    return num1 * num2\n",
    "\n",
    "def div(num1 : int, num2 : int) -> float:\n",
    "    \"\"\"This function divides 2 ints called\n",
    "    num1 and num2 and returns its output\"\"\"\n",
    "    return num1 / num2\n",
    "\n",
    "def parser():\n",
    "    \"\"\"This function parses the given operator for the calculations\n",
    "    And this function also takes 2 integer inputs to display result\"\"\"\n",
    "    \n",
    "    greet(\"Advait\", \"Welcome.. have a nice day\")\n",
    "    num1 = int(input(\"Please input number 1 :- \"))\n",
    "    if num1 == 0:\n",
    "        print(\"DIsplay Error\")\n",
    "    \n",
    "    op = input(\"Please input valid operator (+ , - , * , / ) :- \")\n",
    "    num2 = int(input(\"Please input number 2 :- \"))\n",
    "    if num2 == 0:\n",
    "        print(\"Display Error\")\n",
    "    \n",
    "    if op == \"+\":\n",
    "        print(add(num1,num2))\n",
    "    if op == \"-\":\n",
    "        print(sub(num1,num2))\n",
    "    if op == \"*\":\n",
    "        print(mul(num1,num2))\n",
    "    if op == \"/\":\n",
    "        print(add(num1,num2))\n",
    "parser()"
   ]
  },
  {
   "cell_type": "code",
   "execution_count": null,
   "id": "d8180855",
   "metadata": {},
   "outputs": [],
   "source": []
  }
 ],
 "metadata": {
  "kernelspec": {
   "display_name": "Python 3 (ipykernel)",
   "language": "python",
   "name": "python3"
  },
  "language_info": {
   "codemirror_mode": {
    "name": "ipython",
    "version": 3
   },
   "file_extension": ".py",
   "mimetype": "text/x-python",
   "name": "python",
   "nbconvert_exporter": "python",
   "pygments_lexer": "ipython3",
   "version": "3.9.7"
  }
 },
 "nbformat": 4,
 "nbformat_minor": 5
}
