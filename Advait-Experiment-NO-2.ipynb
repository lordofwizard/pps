{
 "cells": [
  {
   "cell_type": "code",
   "execution_count": 2,
   "id": "e55aed9b",
   "metadata": {
    "scrolled": true
   },
   "outputs": [
    {
     "name": "stdout",
     "output_type": "stream",
     "text": [
      "Please input no of Numbers :- 5\n",
      "149\n",
      "10\n",
      "51\n",
      "63\n",
      "79\n",
      "minumum no in this list 10\n",
      "maximum no in this list 149\n",
      "sum no in this list 352\n",
      "minumum no in this list 70.4\n"
     ]
    }
   ],
   "source": [
    "import math\n",
    "\n",
    "n = int(input(\"Please input no of Numbers :- \"))\n",
    "n_copy = n\n",
    "numbers = []\n",
    "while n != 0:\n",
    "    num = int(input())\n",
    "    numbers.append(num)\n",
    "    n = n - 1\n",
    "\n",
    "print(f\"minumum no in this list {min(numbers)}\")\n",
    "print(f\"maximum no in this list {max(numbers)}\")\n",
    "print(f\"sum no in this list {sum(numbers)}\")\n",
    "print(f\"minumum no in this list {sum(numbers)/n_copy}\")"
   ]
  },
  {
   "cell_type": "code",
   "execution_count": null,
   "id": "d8ad7e5c",
   "metadata": {},
   "outputs": [],
   "source": []
  }
 ],
 "metadata": {
  "kernelspec": {
   "display_name": "Python 3 (ipykernel)",
   "language": "python",
   "name": "python3"
  },
  "language_info": {
   "codemirror_mode": {
    "name": "ipython",
    "version": 3
   },
   "file_extension": ".py",
   "mimetype": "text/x-python",
   "name": "python",
   "nbconvert_exporter": "python",
   "pygments_lexer": "ipython3",
   "version": "3.9.7"
  }
 },
 "nbformat": 4,
 "nbformat_minor": 5
}
