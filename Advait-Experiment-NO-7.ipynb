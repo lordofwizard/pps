{
 "cells": [
  {
   "cell_type": "code",
   "execution_count": 1,
   "id": "1256f9f3",
   "metadata": {},
   "outputs": [
    {
     "name": "stdout",
     "output_type": "stream",
     "text": [
      "Please input n :- 10\n",
      "0 1\n",
      "1\n",
      "2\n",
      "3\n",
      "5\n",
      "8\n",
      "13\n",
      "21\n",
      "34\n",
      "55\n",
      "89\n"
     ]
    }
   ],
   "source": [
    "f1 = 0\n",
    "f2 = 1\n",
    "\n",
    "n = int(input(\"Please input n :- \"))\n",
    "print ( f1,f2)\n",
    "for i in range(0,n):\n",
    "    f3 = f1 + f2\n",
    "    print(f3)\n",
    "    f1 = f2\n",
    "    f2 = f3\n"
   ]
  },
  {
   "cell_type": "code",
   "execution_count": null,
   "id": "607d5919",
   "metadata": {},
   "outputs": [],
   "source": []
  }
 ],
 "metadata": {
  "kernelspec": {
   "display_name": "Python 3 (ipykernel)",
   "language": "python",
   "name": "python3"
  },
  "language_info": {
   "codemirror_mode": {
    "name": "ipython",
    "version": 3
   },
   "file_extension": ".py",
   "mimetype": "text/x-python",
   "name": "python",
   "nbconvert_exporter": "python",
   "pygments_lexer": "ipython3",
   "version": "3.9.7"
  }
 },
 "nbformat": 4,
 "nbformat_minor": 5
}
