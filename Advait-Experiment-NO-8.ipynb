{
 "cells": [
  {
   "cell_type": "code",
   "execution_count": 2,
   "id": "e5913cd8",
   "metadata": {},
   "outputs": [
    {
     "name": "stdout",
     "output_type": "stream",
     "text": [
      "File name :- text.txt\n",
      "Counter({' ': 7,\n",
      "         'O': 6,\n",
      "         'E': 3,\n",
      "         'H': 2,\n",
      "         'S': 2,\n",
      "         'G': 2,\n",
      "         'A': 1,\n",
      "         'Y': 1,\n",
      "         'D': 1,\n",
      "         'C': 1,\n",
      "         'M': 1,\n",
      "         'N': 1,\n",
      "         'L': 1,\n",
      "         'T': 1,\n",
      "         '\\n': 1})\n"
     ]
    }
   ],
   "source": [
    "import collections\n",
    "import pprint\n",
    "file_input = input(\"File name :- \")\n",
    "\n",
    "with open(file_input,'r') as info:\n",
    "    count = collections.Counter(info.read().upper())\n",
    "    value = pprint.pformat(count)\n",
    "\n",
    "print(value)"
   ]
  },
  {
   "cell_type": "code",
   "execution_count": null,
   "id": "d14abbc3",
   "metadata": {},
   "outputs": [],
   "source": []
  }
 ],
 "metadata": {
  "kernelspec": {
   "display_name": "Python 3 (ipykernel)",
   "language": "python",
   "name": "python3"
  },
  "language_info": {
   "codemirror_mode": {
    "name": "ipython",
    "version": 3
   },
   "file_extension": ".py",
   "mimetype": "text/x-python",
   "name": "python",
   "nbconvert_exporter": "python",
   "pygments_lexer": "ipython3",
   "version": "3.9.7"
  }
 },
 "nbformat": 4,
 "nbformat_minor": 5
}
