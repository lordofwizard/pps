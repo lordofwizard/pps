{
 "cells": [
  {
   "cell_type": "code",
   "execution_count": 2,
   "id": "3a8857f9",
   "metadata": {},
   "outputs": [
    {
     "name": "stdout",
     "output_type": "stream",
     "text": [
      "Please input your Monthly Salary10000\n",
      "Your net salary for 1 year is 8300\n"
     ]
    }
   ],
   "source": [
    "gross_salary,basic,hra,ta,ptax = 0,0,10,5,2\n",
    "basic = int(input(\"Please input your Monthly Salary :- \"))\n",
    "hra_amount = (hra * basic) / 100\n",
    "ta_amount = (ta * basic ) / 100\n",
    "ptax_amount = (ptax * basic ) / 100\n",
    "total_tax = hra_amount + ta_amount + ptax_amount\n",
    "net_salary = basic - total_tax\n",
    "\n",
    "print(f\"Your net salary for 1 year is {int(net_salary)}\")"
   ]
  },
  {
   "cell_type": "code",
   "execution_count": null,
   "id": "d64d611b",
   "metadata": {},
   "outputs": [],
   "source": []
  }
 ],
 "metadata": {
  "kernelspec": {
   "display_name": "Python 3 (ipykernel)",
   "language": "python",
   "name": "python3"
  },
  "language_info": {
   "codemirror_mode": {
    "name": "ipython",
    "version": 3
   },
   "file_extension": ".py",
   "mimetype": "text/x-python",
   "name": "python",
   "nbconvert_exporter": "python",
   "pygments_lexer": "ipython3",
   "version": "3.9.7"
  }
 },
 "nbformat": 4,
 "nbformat_minor": 5
}
