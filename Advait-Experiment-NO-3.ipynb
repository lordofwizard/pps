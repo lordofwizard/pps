{
 "cells": [
  {
   "cell_type": "code",
   "execution_count": 19,
   "id": "48e79b3c",
   "metadata": {
    "scrolled": true
   },
   "outputs": [
    {
     "name": "stdout",
     "output_type": "stream",
     "text": [
      "Please enter N :- 153\n",
      "3\n",
      "5\n",
      "1\n",
      "N is an armstrong number\n",
      "153\n"
     ]
    }
   ],
   "source": [
    "N = int(input(\"Please enter N :- \"))\n",
    "\n",
    "SUM = 0\n",
    "Number = N\n",
    "\n",
    "\n",
    "while Number != 0:\n",
    "    if Number != 0:\n",
    "        SUM = (Number%10)**3 + SUM\n",
    "        print(Number % 10)\n",
    "        Number = Number // 10\n",
    "        \n",
    "    if N == SUM:\n",
    "        print(f\"N is an armstrong number\")\n",
    "        break\n",
    "print(SUM)"
   ]
  },
  {
   "cell_type": "code",
   "execution_count": null,
   "id": "61650a7f",
   "metadata": {},
   "outputs": [],
   "source": []
  }
 ],
 "metadata": {
  "kernelspec": {
   "display_name": "Python 3 (ipykernel)",
   "language": "python",
   "name": "python3"
  },
  "language_info": {
   "codemirror_mode": {
    "name": "ipython",
    "version": 3
   },
   "file_extension": ".py",
   "mimetype": "text/x-python",
   "name": "python",
   "nbconvert_exporter": "python",
   "pygments_lexer": "ipython3",
   "version": "3.9.7"
  }
 },
 "nbformat": 4,
 "nbformat_minor": 5
}
