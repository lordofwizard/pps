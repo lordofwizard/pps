{
 "cells": [
  {
   "cell_type": "code",
   "execution_count": null,
   "id": "3c25ecf8",
   "metadata": {},
   "outputs": [],
   "source": [
    "decimal = 0\n",
    "base = 1\n",
    "\n",
    "binary = int(input(\"Please input binary (10) no :- \"))\n",
    "while binary != 0:\n",
    "    digit = binary % 10\n",
    "    decimal = digit * base + decimal\n",
    "    base = base * 2\n",
    "    binary = binary // 10\n",
    "\n",
    "print(\"Decimal number of given binary is\",decimal)"
   ]
  }
 ],
 "metadata": {
  "kernelspec": {
   "display_name": "Python 3 (ipykernel)",
   "language": "python",
   "name": "python3"
  },
  "language_info": {
   "codemirror_mode": {
    "name": "ipython",
    "version": 3
   },
   "file_extension": ".py",
   "mimetype": "text/x-python",
   "name": "python",
   "nbconvert_exporter": "python",
   "pygments_lexer": "ipython3",
   "version": "3.9.7"
  }
 },
 "nbformat": 4,
 "nbformat_minor": 5
}
